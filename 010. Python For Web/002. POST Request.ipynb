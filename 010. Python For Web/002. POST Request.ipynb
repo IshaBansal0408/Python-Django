{
 "cells": [
  {
   "cell_type": "markdown",
   "id": "89c08dcf",
   "metadata": {},
   "source": [
    "## POST REQUEST"
   ]
  },
  {
   "cell_type": "code",
   "execution_count": 1,
   "id": "e2b9e8a6",
   "metadata": {},
   "outputs": [],
   "source": [
    "import requests"
   ]
  },
  {
   "cell_type": "code",
   "execution_count": 2,
   "id": "a18b6d7d",
   "metadata": {},
   "outputs": [],
   "source": [
    "# enter your key here\n",
    "key = \"\""
   ]
  },
  {
   "cell_type": "code",
   "execution_count": 3,
   "id": "b254203f",
   "metadata": {},
   "outputs": [],
   "source": [
    "url ='https://pastebin.com/api/api_post.php'"
   ]
  },
  {
   "cell_type": "code",
   "execution_count": 4,
   "id": "fa0b719a",
   "metadata": {},
   "outputs": [],
   "source": [
    "data = {\n",
    "    \"api_dev_key\": key,\n",
    "    \"api_option\" : \"paste\",\n",
    "    \"api_paste_code\" : \"Hello! How you doing?!\"\n",
    "}"
   ]
  },
  {
   "cell_type": "code",
   "execution_count": 5,
   "id": "cdd7d475",
   "metadata": {},
   "outputs": [],
   "source": [
    "r = requests.post(url,data = data)"
   ]
  },
  {
   "cell_type": "code",
   "execution_count": 6,
   "id": "f4f40164",
   "metadata": {},
   "outputs": [
    {
     "data": {
      "text/plain": [
       "b'https://pastebin.com/DxJvr4RQ'"
      ]
     },
     "execution_count": 6,
     "metadata": {},
     "output_type": "execute_result"
    }
   ],
   "source": [
    "r.content"
   ]
  },
  {
   "cell_type": "code",
   "execution_count": null,
   "id": "1d1d6847",
   "metadata": {},
   "outputs": [],
   "source": []
  }
 ],
 "metadata": {
  "kernelspec": {
   "display_name": "Python 3 (ipykernel)",
   "language": "python",
   "name": "python3"
  },
  "language_info": {
   "codemirror_mode": {
    "name": "ipython",
    "version": 3
   },
   "file_extension": ".py",
   "mimetype": "text/x-python",
   "name": "python",
   "nbconvert_exporter": "python",
   "pygments_lexer": "ipython3",
   "version": "3.10.6"
  }
 },
 "nbformat": 4,
 "nbformat_minor": 5
}
