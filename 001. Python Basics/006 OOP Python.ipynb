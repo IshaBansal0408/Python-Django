{
 "cells": [
  {
   "cell_type": "markdown",
   "id": "f014382a",
   "metadata": {},
   "source": [
    "## Introduction to Classes and Objects"
   ]
  },
  {
   "cell_type": "code",
   "execution_count": 1,
   "id": "598832ed",
   "metadata": {},
   "outputs": [
    {
     "name": "stdout",
     "output_type": "stream",
     "text": [
      "<__main__.Person object at 0x7fbc23579580>\n"
     ]
    }
   ],
   "source": [
    "class Person:\n",
    "    pass\n",
    "p = Person()\n",
    "print(p)"
   ]
  },
  {
   "cell_type": "code",
   "execution_count": 2,
   "id": "6a922a3e",
   "metadata": {},
   "outputs": [
    {
     "data": {
      "text/plain": [
       "140446023521664"
      ]
     },
     "execution_count": 2,
     "metadata": {},
     "output_type": "execute_result"
    }
   ],
   "source": [
    "id(p)"
   ]
  },
  {
   "cell_type": "code",
   "execution_count": 3,
   "id": "2e9df292",
   "metadata": {
    "scrolled": true
   },
   "outputs": [
    {
     "data": {
      "text/plain": [
       "'0x7fbc23579580'"
      ]
     },
     "execution_count": 3,
     "metadata": {},
     "output_type": "execute_result"
    }
   ],
   "source": [
    "hex(id(p))"
   ]
  },
  {
   "cell_type": "code",
   "execution_count": 4,
   "id": "6f084076",
   "metadata": {},
   "outputs": [
    {
     "name": "stdout",
     "output_type": "stream",
     "text": [
      "Welcome Isha!\n",
      "Welcome Isha!\n"
     ]
    }
   ],
   "source": [
    "class Person:\n",
    "    name = \"Isha\"\n",
    "    def welcome(self):\n",
    "        print(\"Welcome \"+self.name+\"!\")\n",
    "\n",
    "p = Person()\n",
    "p.welcome()\n",
    "\n",
    "#manually sending object\n",
    "Person.welcome(p)"
   ]
  },
  {
   "cell_type": "code",
   "execution_count": 5,
   "id": "a7feb76d",
   "metadata": {},
   "outputs": [
    {
     "name": "stdout",
     "output_type": "stream",
     "text": [
      "New Object Created!\n",
      "Welcome Ishaan!\n"
     ]
    }
   ],
   "source": [
    "class Person:\n",
    "    # not a constructor \n",
    "    def __init__(self,name):\n",
    "        self.name =  name\n",
    "        print(\"New Object Created!\")\n",
    "    def welcome(self):\n",
    "        print(\"Welcome \"+self.name+\"!\")\n",
    "\n",
    "p = Person(\"Ishaan\")\n",
    "p.welcome()"
   ]
  },
  {
   "cell_type": "markdown",
   "id": "c02be0b8",
   "metadata": {},
   "source": [
    "## Magic Methods or Dunders"
   ]
  },
  {
   "cell_type": "markdown",
   "id": "b0028cd7",
   "metadata": {},
   "source": [
    "### Life Cycle of an Object\n",
    "\n",
    "Two permanent events that happen: \n",
    "1. Object Created\n",
    "2. Object Destructed\n",
    "\n",
    "\n",
    "### Examples of Dunders\n",
    "\n",
    "1. _ _ _init_ _ _(self)\n",
    "2. _ _ _del_ _ _(self)\n",
    "3. _ _ _add_ _ _(self,other)\n",
    "4. _ _ _str_ _ _(self)"
   ]
  },
  {
   "cell_type": "code",
   "execution_count": 6,
   "id": "63309bb8",
   "metadata": {},
   "outputs": [],
   "source": [
    "class Car:\n",
    "    def __init__(self,name,price):\n",
    "        self.name = name\n",
    "        self.price = price\n",
    "    def __str__(self):\n",
    "        return \"{} has price : {}\".format(self.name,self.price)\n",
    "    def __eq__(self,other):\n",
    "        return self.price == other.price\n",
    "    def __add__(self,other):\n",
    "        return self.price+other.price\n",
    "\n",
    "c1 = Car(\"c1\",23000)\n",
    "c2 = Car(\"c2\",340213)\n",
    "c3 = Car(\"c3\",23000)"
   ]
  },
  {
   "cell_type": "code",
   "execution_count": 7,
   "id": "1abf3897",
   "metadata": {},
   "outputs": [
    {
     "name": "stdout",
     "output_type": "stream",
     "text": [
      "363213\n",
      "False\n",
      "True\n",
      "c1 has price : 23000\n"
     ]
    }
   ],
   "source": [
    "print(c1 + c2)\n",
    "print(c1 == c2)\n",
    "print(c1 == c3)\n",
    "print(c1)"
   ]
  },
  {
   "cell_type": "markdown",
   "id": "21129cbb",
   "metadata": {},
   "source": [
    "## Implement 'cout' in Python"
   ]
  },
  {
   "cell_type": "code",
   "execution_count": 8,
   "id": "5220180c",
   "metadata": {},
   "outputs": [],
   "source": [
    "class Ostream:\n",
    "    def __lshift__(self,other):\n",
    "        print(other,end=\"\")\n",
    "        return self\n",
    "cout = Ostream()"
   ]
  },
  {
   "cell_type": "code",
   "execution_count": 9,
   "id": "fc1b332d",
   "metadata": {},
   "outputs": [
    {
     "name": "stdout",
     "output_type": "stream",
     "text": [
      "IshaBansal"
     ]
    },
    {
     "data": {
      "text/plain": [
       "<__main__.Ostream at 0x7fbc2052b670>"
      ]
     },
     "execution_count": 9,
     "metadata": {},
     "output_type": "execute_result"
    }
   ],
   "source": [
    "cout<<\"Isha\"<<\"Bansal\""
   ]
  },
  {
   "cell_type": "markdown",
   "id": "9e58728b",
   "metadata": {},
   "source": [
    "## Inheritance"
   ]
  },
  {
   "cell_type": "code",
   "execution_count": null,
   "id": "5cc8aedb",
   "metadata": {},
   "outputs": [],
   "source": []
  },
  {
   "cell_type": "markdown",
   "id": "cbb9b097",
   "metadata": {},
   "source": [
    "## Method Resolution Order (MRO)"
   ]
  },
  {
   "cell_type": "code",
   "execution_count": 1,
   "id": "138a86af",
   "metadata": {},
   "outputs": [],
   "source": [
    "class A:\n",
    "    x = 10\n",
    "class B(A):\n",
    "    pass\n",
    "class C(A):\n",
    "    pass\n",
    "class D(C):\n",
    "    x = 5\n",
    "class E(B,D):\n",
    "    pass"
   ]
  },
  {
   "cell_type": "code",
   "execution_count": 2,
   "id": "dd7b875c",
   "metadata": {},
   "outputs": [
    {
     "data": {
      "text/plain": [
       "5"
      ]
     },
     "execution_count": 2,
     "metadata": {},
     "output_type": "execute_result"
    }
   ],
   "source": [
    "E.x"
   ]
  },
  {
   "cell_type": "code",
   "execution_count": 3,
   "id": "fea03845",
   "metadata": {},
   "outputs": [
    {
     "data": {
      "text/plain": [
       "(__main__.E, __main__.B, __main__.D, __main__.C, __main__.A, object)"
      ]
     },
     "execution_count": 3,
     "metadata": {},
     "output_type": "execute_result"
    }
   ],
   "source": [
    "E.__mro__"
   ]
  },
  {
   "cell_type": "code",
   "execution_count": null,
   "id": "907f70f6",
   "metadata": {},
   "outputs": [],
   "source": []
  }
 ],
 "metadata": {
  "kernelspec": {
   "display_name": "Python 3 (ipykernel)",
   "language": "python",
   "name": "python3"
  },
  "language_info": {
   "codemirror_mode": {
    "name": "ipython",
    "version": 3
   },
   "file_extension": ".py",
   "mimetype": "text/x-python",
   "name": "python",
   "nbconvert_exporter": "python",
   "pygments_lexer": "ipython3",
   "version": "3.8.10"
  }
 },
 "nbformat": 4,
 "nbformat_minor": 5
}
