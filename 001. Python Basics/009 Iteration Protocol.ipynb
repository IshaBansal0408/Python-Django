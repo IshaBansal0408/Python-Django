{
 "cells": [
  {
   "cell_type": "markdown",
   "id": "eed12a57",
   "metadata": {},
   "source": [
    "## Iteration Protocol\n",
    "\n",
    "- iterable - list, dict\n",
    "- iteration - the process\n",
    "- iterator - perform iteration"
   ]
  },
  {
   "cell_type": "code",
   "execution_count": 1,
   "id": "a41ccad6",
   "metadata": {},
   "outputs": [],
   "source": [
    "x = [1,2,4,5,7,5]"
   ]
  },
  {
   "cell_type": "code",
   "execution_count": 2,
   "id": "45822623",
   "metadata": {},
   "outputs": [
    {
     "name": "stdout",
     "output_type": "stream",
     "text": [
      "<class 'list_iterator'>\n"
     ]
    }
   ],
   "source": [
    "x_itr = iter(x)\n",
    "print(type(x_itr))"
   ]
  },
  {
   "cell_type": "code",
   "execution_count": 3,
   "id": "bde798f9",
   "metadata": {},
   "outputs": [
    {
     "data": {
      "text/plain": [
       "<list_iterator at 0x7f527c03c7f0>"
      ]
     },
     "execution_count": 3,
     "metadata": {},
     "output_type": "execute_result"
    }
   ],
   "source": [
    "x_itr"
   ]
  },
  {
   "cell_type": "code",
   "execution_count": 4,
   "id": "69775c34",
   "metadata": {},
   "outputs": [
    {
     "name": "stdout",
     "output_type": "stream",
     "text": [
      "1\n",
      "2\n",
      "4\n",
      "5\n",
      "7\n",
      "5\n"
     ]
    },
    {
     "ename": "StopIteration",
     "evalue": "",
     "output_type": "error",
     "traceback": [
      "\u001b[0;31m---------------------------------------------------------------------------\u001b[0m",
      "\u001b[0;31mStopIteration\u001b[0m                             Traceback (most recent call last)",
      "Input \u001b[0;32mIn [4]\u001b[0m, in \u001b[0;36m<module>\u001b[0;34m\u001b[0m\n\u001b[1;32m      5\u001b[0m \u001b[38;5;28mprint\u001b[39m(\u001b[38;5;28mnext\u001b[39m(x_itr))\n\u001b[1;32m      6\u001b[0m \u001b[38;5;28mprint\u001b[39m(\u001b[38;5;28mnext\u001b[39m(x_itr))\n\u001b[0;32m----> 7\u001b[0m \u001b[38;5;28mprint\u001b[39m(\u001b[38;5;28;43mnext\u001b[39;49m\u001b[43m(\u001b[49m\u001b[43mx_itr\u001b[49m\u001b[43m)\u001b[49m)\n",
      "\u001b[0;31mStopIteration\u001b[0m: "
     ]
    }
   ],
   "source": [
    "print(next(x_itr))\n",
    "print(next(x_itr))\n",
    "print(next(x_itr))\n",
    "print(next(x_itr))\n",
    "print(next(x_itr))\n",
    "print(next(x_itr))\n",
    "print(next(x_itr))"
   ]
  },
  {
   "cell_type": "code",
   "execution_count": null,
   "id": "1a6da00d",
   "metadata": {},
   "outputs": [],
   "source": [
    "# It is both iterator and iterable\n",
    "class yRange:\n",
    "    # range will be till n\n",
    "    def __init__(self,n):\n",
    "        self.i = 0\n",
    "        self.n = n\n",
    "    # this method makes our class iterable\n",
    "    def __iter__(self):\n",
    "        return self\n",
    "    # this method should be implemented by the Iterator\n",
    "    def __next__(self):\n",
    "        if self.i<self.n:\n",
    "            self.i+=1\n",
    "            return self.i\n",
    "        else:\n",
    "            raise StopIteration\n",
    "for x in yRange(5):\n",
    "    print(x,end=\" \")"
   ]
  },
  {
   "cell_type": "code",
   "execution_count": null,
   "id": "6e077158",
   "metadata": {},
   "outputs": [],
   "source": [
    "y = yRange(4)\n",
    "y_itr = iter(y)\n",
    "print(y_itr)\n",
    "print(next(y_itr),end=\" \")\n",
    "print(next(y_itr),end=\" \")\n",
    "print(next(y_itr),end=\" \")\n",
    "print(next(y_itr),end=\" \")\n",
    "print(next(y_itr),end=\" \")"
   ]
  },
  {
   "cell_type": "code",
   "execution_count": null,
   "id": "f4d3088c",
   "metadata": {},
   "outputs": [],
   "source": [
    "class zRange:\n",
    "    def __init__(self,n):\n",
    "        self.n = n\n",
    "    def __iter__(self):\n",
    "        return zRange_itr(self.n)\n",
    "    \n",
    "class zRange_itr:\n",
    "    def __init__(self,n):\n",
    "        self.i = 0\n",
    "        self.n = n\n",
    "    def __iter__(self):\n",
    "        return self\n",
    "    def __next__(self):\n",
    "        if self.i<self.n:\n",
    "            i = self.i\n",
    "            self.i+=1\n",
    "            return i\n",
    "        else:\n",
    "            raise StopIteration\n",
    "\n",
    "for i in zRange(6):\n",
    "    print(i**2,end=\" \")"
   ]
  },
  {
   "cell_type": "code",
   "execution_count": null,
   "id": "d81d965e",
   "metadata": {},
   "outputs": [],
   "source": [
    "y = yRange(4)\n",
    "print(list(y))\n",
    "print(list(y))\n",
    "\n",
    "z = zRange(4)\n",
    "print(list(z))\n",
    "print(list(z))"
   ]
  },
  {
   "cell_type": "markdown",
   "id": "f17517c2",
   "metadata": {},
   "source": [
    "## Generators"
   ]
  },
  {
   "cell_type": "code",
   "execution_count": null,
   "id": "b4f199f5",
   "metadata": {},
   "outputs": [],
   "source": [
    "def fib():\n",
    "    p,c = 0,1\n",
    "    while True:\n",
    "        yield c\n",
    "        p,c=c,p+c"
   ]
  },
  {
   "cell_type": "code",
   "execution_count": null,
   "id": "f84b4c03",
   "metadata": {},
   "outputs": [],
   "source": [
    "g = fib()"
   ]
  },
  {
   "cell_type": "code",
   "execution_count": null,
   "id": "2ea09a52",
   "metadata": {},
   "outputs": [],
   "source": [
    "print(next(g))\n",
    "print(next(g))\n",
    "print(next(g))\n",
    "print(next(g))"
   ]
  },
  {
   "cell_type": "markdown",
   "id": "970c4662",
   "metadata": {},
   "source": [
    "### Generator Expression"
   ]
  },
  {
   "cell_type": "code",
   "execution_count": 9,
   "id": "7e8d2373",
   "metadata": {},
   "outputs": [
    {
     "name": "stdout",
     "output_type": "stream",
     "text": [
      "<generator object <genexpr> at 0x7f526c51d6d0>\n",
      "<class 'generator'>\n"
     ]
    }
   ],
   "source": [
    "g = (x**2 for x in range(1,11))\n",
    "print(g)\n",
    "print(type(g))"
   ]
  },
  {
   "cell_type": "code",
   "execution_count": 10,
   "id": "8a1b3f9c",
   "metadata": {},
   "outputs": [
    {
     "name": "stdout",
     "output_type": "stream",
     "text": [
      "1 4 9 16 25 "
     ]
    }
   ],
   "source": [
    "for i in range(5):\n",
    "    print(next(g),end=\" \")"
   ]
  },
  {
   "cell_type": "code",
   "execution_count": null,
   "id": "08dacd33",
   "metadata": {},
   "outputs": [],
   "source": []
  }
 ],
 "metadata": {
  "kernelspec": {
   "display_name": "Python 3 (ipykernel)",
   "language": "python",
   "name": "python3"
  },
  "language_info": {
   "codemirror_mode": {
    "name": "ipython",
    "version": 3
   },
   "file_extension": ".py",
   "mimetype": "text/x-python",
   "name": "python",
   "nbconvert_exporter": "python",
   "pygments_lexer": "ipython3",
   "version": "3.8.10"
  }
 },
 "nbformat": 4,
 "nbformat_minor": 5
}
