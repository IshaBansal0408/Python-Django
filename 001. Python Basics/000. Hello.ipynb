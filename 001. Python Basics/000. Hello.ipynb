{
 "cells": [
  {
   "cell_type": "markdown",
   "id": "223deea9",
   "metadata": {},
   "source": [
    "# Introduction to Python"
   ]
  },
  {
   "cell_type": "markdown",
   "id": "a2439a1b",
   "metadata": {},
   "source": [
    "## Basics"
   ]
  },
  {
   "cell_type": "code",
   "execution_count": 1,
   "id": "c2b0e63d",
   "metadata": {
    "scrolled": true
   },
   "outputs": [
    {
     "name": "stdout",
     "output_type": "stream",
     "text": [
      "Hello World\n"
     ]
    }
   ],
   "source": [
    "print(\"Hello World\")"
   ]
  },
  {
   "cell_type": "code",
   "execution_count": 2,
   "id": "9f1993aa",
   "metadata": {},
   "outputs": [],
   "source": [
    "# This is a comment"
   ]
  },
  {
   "cell_type": "markdown",
   "id": "9aba36ee",
   "metadata": {},
   "source": [
    "Multi Line comments are 'Strings'."
   ]
  },
  {
   "cell_type": "code",
   "execution_count": 3,
   "id": "16995ee8",
   "metadata": {
    "scrolled": true
   },
   "outputs": [
    {
     "data": {
      "text/plain": [
       "'I am a documentation string'"
      ]
     },
     "execution_count": 3,
     "metadata": {},
     "output_type": "execute_result"
    }
   ],
   "source": [
    "'''I am a documentation string'''"
   ]
  },
  {
   "cell_type": "code",
   "execution_count": 4,
   "id": "7681a7e6",
   "metadata": {},
   "outputs": [
    {
     "name": "stdout",
     "output_type": "stream",
     "text": [
      "Hello\n"
     ]
    }
   ],
   "source": [
    "'''I am a documentation string acting as comment'''\n",
    "print(\"Hello\")"
   ]
  },
  {
   "cell_type": "markdown",
   "id": "ad7ae810",
   "metadata": {},
   "source": [
    "## Literal Constants"
   ]
  },
  {
   "cell_type": "code",
   "execution_count": 5,
   "id": "044b51af",
   "metadata": {},
   "outputs": [],
   "source": [
    "# Number\n",
    "a = 4\n",
    "# Float\n",
    "b = 1.5\n",
    "# Complex Number\n",
    "c = 1 + 5j"
   ]
  },
  {
   "cell_type": "code",
   "execution_count": 6,
   "id": "7dc01126",
   "metadata": {},
   "outputs": [
    {
     "name": "stdout",
     "output_type": "stream",
     "text": [
      "<class 'int'>   <class 'float'>   <class 'complex'>\n"
     ]
    }
   ],
   "source": [
    "print(type(a),\" \", type(b),\" \",type(c))"
   ]
  },
  {
   "cell_type": "code",
   "execution_count": 7,
   "id": "797ba60f",
   "metadata": {},
   "outputs": [],
   "source": [
    "# Strings\n",
    "s1 = \"Hello I am Isha\"\n",
    "s2 = 'd'\n",
    "s3 = '''hello\n",
    "my name is\n",
    "Isha'''"
   ]
  },
  {
   "cell_type": "code",
   "execution_count": 8,
   "id": "c76fa1e1",
   "metadata": {},
   "outputs": [
    {
     "name": "stdout",
     "output_type": "stream",
     "text": [
      "Hello I am Isha \n",
      " d \n",
      " hello\n",
      "my name is\n",
      "Isha\n"
     ]
    }
   ],
   "source": [
    "print(s1,\"\\n\",s2,\"\\n\",s3)"
   ]
  },
  {
   "cell_type": "code",
   "execution_count": 9,
   "id": "d45bbaa6",
   "metadata": {},
   "outputs": [
    {
     "name": "stdout",
     "output_type": "stream",
     "text": [
      "<class 'str'>   <class 'str'>   <class 'str'>\n"
     ]
    }
   ],
   "source": [
    "print(type(s1),\" \", type(s2),\" \",type(s3))"
   ]
  },
  {
   "cell_type": "markdown",
   "id": "df2f4ec9",
   "metadata": {},
   "source": [
    "## Variables"
   ]
  },
  {
   "cell_type": "code",
   "execution_count": 10,
   "id": "3402a007",
   "metadata": {},
   "outputs": [],
   "source": [
    "abc = 45"
   ]
  },
  {
   "cell_type": "code",
   "execution_count": 11,
   "id": "65a853f9",
   "metadata": {},
   "outputs": [],
   "source": [
    "d_3 = 45"
   ]
  },
  {
   "cell_type": "code",
   "execution_count": 12,
   "id": "48d01661",
   "metadata": {},
   "outputs": [],
   "source": [
    "_res = 34"
   ]
  },
  {
   "cell_type": "markdown",
   "id": "16405321",
   "metadata": {},
   "source": [
    "## DataTypes"
   ]
  },
  {
   "cell_type": "markdown",
   "id": "52eb19ac",
   "metadata": {},
   "source": [
    "Primitive and Non Primitives"
   ]
  },
  {
   "cell_type": "markdown",
   "id": "a342c941",
   "metadata": {},
   "source": [
    "## Arithmetic Operators\n",
    "\n",
    "(+ - * / // %)"
   ]
  },
  {
   "cell_type": "code",
   "execution_count": 13,
   "id": "2704ef7c",
   "metadata": {},
   "outputs": [
    {
     "name": "stdout",
     "output_type": "stream",
     "text": [
      "0.5882\n"
     ]
    }
   ],
   "source": [
    "print(\"%.4f\"%(20/34))"
   ]
  },
  {
   "cell_type": "code",
   "execution_count": 14,
   "id": "5737c1e1",
   "metadata": {},
   "outputs": [
    {
     "name": "stdout",
     "output_type": "stream",
     "text": [
      "0.59\n"
     ]
    }
   ],
   "source": [
    "print(\"%.2f\"%(20/34))"
   ]
  },
  {
   "cell_type": "markdown",
   "id": "71956f1b",
   "metadata": {},
   "source": [
    "## Multiple Variable Assignment"
   ]
  },
  {
   "cell_type": "code",
   "execution_count": 15,
   "id": "38735e12",
   "metadata": {},
   "outputs": [],
   "source": [
    "a,b,c = 2,3,4"
   ]
  },
  {
   "cell_type": "code",
   "execution_count": null,
   "id": "c58264d0",
   "metadata": {},
   "outputs": [],
   "source": []
  }
 ],
 "metadata": {
  "kernelspec": {
   "display_name": "Python 3 (ipykernel)",
   "language": "python",
   "name": "python3"
  },
  "language_info": {
   "codemirror_mode": {
    "name": "ipython",
    "version": 3
   },
   "file_extension": ".py",
   "mimetype": "text/x-python",
   "name": "python",
   "nbconvert_exporter": "python",
   "pygments_lexer": "ipython3",
   "version": "3.8.10"
  }
 },
 "nbformat": 4,
 "nbformat_minor": 5
}
