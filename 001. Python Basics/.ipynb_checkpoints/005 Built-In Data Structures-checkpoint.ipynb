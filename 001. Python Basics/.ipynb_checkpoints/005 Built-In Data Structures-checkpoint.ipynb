{
 "cells": [
  {
   "cell_type": "markdown",
   "id": "2a40aad3",
   "metadata": {},
   "source": [
    "## Introduction to Strings\n",
    "\n",
    "1. Collection of characters\n",
    "2. Ordered\n",
    "3. Immutable"
   ]
  },
  {
   "cell_type": "code",
   "execution_count": 1,
   "id": "69061baa",
   "metadata": {},
   "outputs": [
    {
     "name": "stdout",
     "output_type": "stream",
     "text": [
      "Python\n"
     ]
    }
   ],
   "source": [
    "s1 = \"Python\"\n",
    "print(s1)"
   ]
  },
  {
   "cell_type": "code",
   "execution_count": 2,
   "id": "cdf99e0b",
   "metadata": {},
   "outputs": [
    {
     "name": "stdout",
     "output_type": "stream",
     "text": [
      "Python go!\n"
     ]
    }
   ],
   "source": [
    "s1 += \" go!\"\n",
    "print(s1)"
   ]
  },
  {
   "cell_type": "code",
   "execution_count": 3,
   "id": "0bc79828",
   "metadata": {},
   "outputs": [
    {
     "name": "stdout",
     "output_type": "stream",
     "text": [
      "1-2-3\n",
      "1-2-3\n",
      "2-3-1\n",
      "1-2-3\n"
     ]
    }
   ],
   "source": [
    "a,b,c = 1,2,3\n",
    "print(\"%d-%d-%d\"%(a,b,c))\n",
    "print(\"{}-{}-{}\".format(a,b,c))\n",
    "print(\"{1}-{2}-{0}\".format(a,b,c))\n",
    "print(f\"{a}-{b}-{c}\")"
   ]
  },
  {
   "cell_type": "code",
   "execution_count": 4,
   "id": "681df01f",
   "metadata": {},
   "outputs": [],
   "source": [
    "a = \"     Isha .   \""
   ]
  },
  {
   "cell_type": "code",
   "execution_count": 5,
   "id": "0f1085e7",
   "metadata": {},
   "outputs": [
    {
     "data": {
      "text/plain": [
       "'Isha .'"
      ]
     },
     "execution_count": 5,
     "metadata": {},
     "output_type": "execute_result"
    }
   ],
   "source": [
    "a.strip()"
   ]
  },
  {
   "cell_type": "code",
   "execution_count": 6,
   "id": "458c513c",
   "metadata": {},
   "outputs": [
    {
     "data": {
      "text/plain": [
       "['Isha', '.']"
      ]
     },
     "execution_count": 6,
     "metadata": {},
     "output_type": "execute_result"
    }
   ],
   "source": [
    "a.split()"
   ]
  },
  {
   "cell_type": "code",
   "execution_count": 7,
   "id": "34c3625a",
   "metadata": {},
   "outputs": [
    {
     "data": {
      "text/plain": [
       "['     Ish', ' .   ']"
      ]
     },
     "execution_count": 7,
     "metadata": {},
     "output_type": "execute_result"
    }
   ],
   "source": [
    "a.split('a')"
   ]
  },
  {
   "cell_type": "code",
   "execution_count": 8,
   "id": "a784dd14",
   "metadata": {},
   "outputs": [
    {
     "data": {
      "text/plain": [
       "'Ihha .'"
      ]
     },
     "execution_count": 8,
     "metadata": {},
     "output_type": "execute_result"
    }
   ],
   "source": [
    "a.strip().replace('s','h')"
   ]
  },
  {
   "cell_type": "code",
   "execution_count": 9,
   "id": "5be5c821",
   "metadata": {},
   "outputs": [
    {
     "data": {
      "text/plain": [
       "1"
      ]
     },
     "execution_count": 9,
     "metadata": {},
     "output_type": "execute_result"
    }
   ],
   "source": [
    "a.count(\"a\")"
   ]
  },
  {
   "cell_type": "code",
   "execution_count": 10,
   "id": "018c762a",
   "metadata": {},
   "outputs": [
    {
     "data": {
      "text/plain": [
       "0"
      ]
     },
     "execution_count": 10,
     "metadata": {},
     "output_type": "execute_result"
    }
   ],
   "source": [
    "a.count(\"aa\")"
   ]
  },
  {
   "cell_type": "code",
   "execution_count": 11,
   "id": "c85bbcd4",
   "metadata": {},
   "outputs": [
    {
     "data": {
      "text/plain": [
       "'   . ahsI     '"
      ]
     },
     "execution_count": 11,
     "metadata": {},
     "output_type": "execute_result"
    }
   ],
   "source": [
    "a[::-1]"
   ]
  },
  {
   "cell_type": "code",
   "execution_count": 12,
   "id": "37469966",
   "metadata": {},
   "outputs": [
    {
     "data": {
      "text/plain": [
       "False"
      ]
     },
     "execution_count": 12,
     "metadata": {},
     "output_type": "execute_result"
    }
   ],
   "source": [
    "#palindrome\n",
    "a == a[::-1]"
   ]
  },
  {
   "cell_type": "markdown",
   "id": "0a36cca3",
   "metadata": {},
   "source": [
    "## Introduction to Lists\n",
    "\n",
    "1. Ordered Data\n",
    "2. Mutable\n",
    "4. Accessed using index"
   ]
  },
  {
   "cell_type": "code",
   "execution_count": 13,
   "id": "4c09262a",
   "metadata": {},
   "outputs": [],
   "source": [
    "l = [1,2,3,4]"
   ]
  },
  {
   "cell_type": "code",
   "execution_count": 14,
   "id": "1bfe3ce9",
   "metadata": {},
   "outputs": [
    {
     "name": "stdout",
     "output_type": "stream",
     "text": [
      "4\n"
     ]
    }
   ],
   "source": [
    "print(len(l))"
   ]
  },
  {
   "cell_type": "code",
   "execution_count": 15,
   "id": "3e321f86",
   "metadata": {},
   "outputs": [],
   "source": [
    "l = l + [7,6,9]"
   ]
  },
  {
   "cell_type": "code",
   "execution_count": 16,
   "id": "5d86c9fe",
   "metadata": {},
   "outputs": [
    {
     "name": "stdout",
     "output_type": "stream",
     "text": [
      "[1, 2, 3, 4, 7, 6, 9]\n"
     ]
    }
   ],
   "source": [
    "print(l)"
   ]
  },
  {
   "cell_type": "code",
   "execution_count": 17,
   "id": "b62bd40f",
   "metadata": {},
   "outputs": [],
   "source": [
    "l = l*2"
   ]
  },
  {
   "cell_type": "code",
   "execution_count": 18,
   "id": "8be82530",
   "metadata": {},
   "outputs": [
    {
     "data": {
      "text/plain": [
       "True"
      ]
     },
     "execution_count": 18,
     "metadata": {},
     "output_type": "execute_result"
    }
   ],
   "source": [
    "2 in l"
   ]
  },
  {
   "cell_type": "code",
   "execution_count": 19,
   "id": "cca1498e",
   "metadata": {},
   "outputs": [
    {
     "data": {
      "text/plain": [
       "[2, 3, 4]"
      ]
     },
     "execution_count": 19,
     "metadata": {},
     "output_type": "execute_result"
    }
   ],
   "source": [
    "l[1:4]"
   ]
  },
  {
   "cell_type": "code",
   "execution_count": 20,
   "id": "72215590",
   "metadata": {},
   "outputs": [
    {
     "data": {
      "text/plain": [
       "[1, 3, 7, 9, 2, 4, 6]"
      ]
     },
     "execution_count": 20,
     "metadata": {},
     "output_type": "execute_result"
    }
   ],
   "source": [
    "l[::2]"
   ]
  },
  {
   "cell_type": "code",
   "execution_count": 21,
   "id": "d8f4d685",
   "metadata": {},
   "outputs": [
    {
     "data": {
      "text/plain": [
       "[9, 6, 7, 4, 3, 2, 1, 9, 6, 7, 4, 3, 2, 1]"
      ]
     },
     "execution_count": 21,
     "metadata": {},
     "output_type": "execute_result"
    }
   ],
   "source": [
    "l[::-1]"
   ]
  },
  {
   "cell_type": "code",
   "execution_count": 22,
   "id": "f3a9740a",
   "metadata": {},
   "outputs": [],
   "source": [
    "l.insert(0,28)"
   ]
  },
  {
   "cell_type": "code",
   "execution_count": 23,
   "id": "c21b7e69",
   "metadata": {},
   "outputs": [],
   "source": [
    "l.append(20)"
   ]
  },
  {
   "cell_type": "code",
   "execution_count": 24,
   "id": "8b58090c",
   "metadata": {},
   "outputs": [
    {
     "name": "stdout",
     "output_type": "stream",
     "text": [
      "[28, 1, 2, 3, 4, 7, 6, 9, 1, 2, 3, 4, 7, 6, 9, 20]\n"
     ]
    }
   ],
   "source": [
    "print(l)"
   ]
  },
  {
   "cell_type": "code",
   "execution_count": 25,
   "id": "c24e654f",
   "metadata": {},
   "outputs": [
    {
     "data": {
      "text/plain": [
       "20"
      ]
     },
     "execution_count": 25,
     "metadata": {},
     "output_type": "execute_result"
    }
   ],
   "source": [
    "l.pop()"
   ]
  },
  {
   "cell_type": "code",
   "execution_count": 26,
   "id": "9943f4e6",
   "metadata": {},
   "outputs": [],
   "source": [
    "l.remove(2)"
   ]
  },
  {
   "cell_type": "code",
   "execution_count": 27,
   "id": "66b8391b",
   "metadata": {},
   "outputs": [
    {
     "data": {
      "text/plain": [
       "[28, 1, 3, 4, 7, 6, 9, 1, 2, 3, 4, 7, 6, 9]"
      ]
     },
     "execution_count": 27,
     "metadata": {},
     "output_type": "execute_result"
    }
   ],
   "source": [
    "l"
   ]
  },
  {
   "cell_type": "code",
   "execution_count": 28,
   "id": "eb11f218",
   "metadata": {},
   "outputs": [],
   "source": [
    "del l[2]"
   ]
  },
  {
   "cell_type": "code",
   "execution_count": 29,
   "id": "4b1229e7",
   "metadata": {},
   "outputs": [
    {
     "data": {
      "text/plain": [
       "[28, 1, 4, 7, 6, 9, 1, 2, 3, 4, 7, 6, 9]"
      ]
     },
     "execution_count": 29,
     "metadata": {},
     "output_type": "execute_result"
    }
   ],
   "source": [
    "l"
   ]
  },
  {
   "cell_type": "code",
   "execution_count": 30,
   "id": "385d9512",
   "metadata": {},
   "outputs": [],
   "source": [
    "l.sort()"
   ]
  },
  {
   "cell_type": "code",
   "execution_count": 31,
   "id": "859284b0",
   "metadata": {},
   "outputs": [
    {
     "data": {
      "text/plain": [
       "[1, 1, 2, 3, 4, 4, 6, 6, 7, 7, 9, 9, 28]"
      ]
     },
     "execution_count": 31,
     "metadata": {},
     "output_type": "execute_result"
    }
   ],
   "source": [
    "l"
   ]
  },
  {
   "cell_type": "code",
   "execution_count": 32,
   "id": "c9e97efb",
   "metadata": {},
   "outputs": [],
   "source": [
    "l.reverse()"
   ]
  },
  {
   "cell_type": "code",
   "execution_count": 33,
   "id": "a9f0890e",
   "metadata": {},
   "outputs": [
    {
     "data": {
      "text/plain": [
       "[28, 9, 9, 7, 7, 6, 6, 4, 4, 3, 2, 1, 1]"
      ]
     },
     "execution_count": 33,
     "metadata": {},
     "output_type": "execute_result"
    }
   ],
   "source": [
    "l"
   ]
  },
  {
   "cell_type": "markdown",
   "id": "290fe22c",
   "metadata": {},
   "source": [
    "## Introduction to Tuples\n",
    "\n",
    "1. Tuples are immutable"
   ]
  },
  {
   "cell_type": "code",
   "execution_count": 34,
   "id": "245bdff3",
   "metadata": {},
   "outputs": [
    {
     "name": "stdout",
     "output_type": "stream",
     "text": [
      "(1, 2, 3, 4)\n"
     ]
    }
   ],
   "source": [
    "t = (1,2,3,4)\n",
    "print(t)"
   ]
  },
  {
   "cell_type": "code",
   "execution_count": 35,
   "id": "32636de1",
   "metadata": {},
   "outputs": [
    {
     "name": "stdout",
     "output_type": "stream",
     "text": [
      "(2, 3)\n"
     ]
    }
   ],
   "source": [
    "t = 2 ,3\n",
    "print(t)"
   ]
  },
  {
   "cell_type": "code",
   "execution_count": 36,
   "id": "da722398",
   "metadata": {},
   "outputs": [
    {
     "name": "stdout",
     "output_type": "stream",
     "text": [
      "2 3\n"
     ]
    }
   ],
   "source": [
    "a,b = t\n",
    "print(a,b)"
   ]
  },
  {
   "cell_type": "code",
   "execution_count": 37,
   "id": "5a792db8",
   "metadata": {},
   "outputs": [
    {
     "name": "stdout",
     "output_type": "stream",
     "text": [
      "5 7\n",
      "7 5\n"
     ]
    }
   ],
   "source": [
    "a = 5\n",
    "b = 7\n",
    "print(a,b)\n",
    "a,b = b,a\n",
    "print(a,b)"
   ]
  },
  {
   "cell_type": "markdown",
   "id": "e021df73",
   "metadata": {},
   "source": [
    "### Tuple to List and List to Tuple"
   ]
  },
  {
   "cell_type": "code",
   "execution_count": 38,
   "id": "5bb14060",
   "metadata": {},
   "outputs": [
    {
     "name": "stdout",
     "output_type": "stream",
     "text": [
      "(1, 2, 3)\n",
      "[1, 2, 3]\n"
     ]
    }
   ],
   "source": [
    "T = (1,2,3)\n",
    "print(T)\n",
    "L = list(T)\n",
    "print(L)"
   ]
  },
  {
   "cell_type": "code",
   "execution_count": 39,
   "id": "4bc2c0a5",
   "metadata": {},
   "outputs": [
    {
     "name": "stdout",
     "output_type": "stream",
     "text": [
      "(1, 2, 3)\n"
     ]
    }
   ],
   "source": [
    "T1 = tuple(L)\n",
    "print(T1)"
   ]
  },
  {
   "cell_type": "markdown",
   "id": "2e8cf618",
   "metadata": {},
   "source": [
    "## Introduction to Dictionaries"
   ]
  },
  {
   "cell_type": "code",
   "execution_count": 40,
   "id": "51552ac3",
   "metadata": {},
   "outputs": [],
   "source": [
    "d = {\"name\":\"Isha\",\"marks\":100,\"courses\":[\"python\",\"django\"],\"friends\":{\"kartik\":\"machine learning\"}}"
   ]
  },
  {
   "cell_type": "code",
   "execution_count": 41,
   "id": "d98ab923",
   "metadata": {},
   "outputs": [
    {
     "data": {
      "text/plain": [
       "['python', 'django']"
      ]
     },
     "execution_count": 41,
     "metadata": {},
     "output_type": "execute_result"
    }
   ],
   "source": [
    "d[\"courses\"]"
   ]
  },
  {
   "cell_type": "code",
   "execution_count": 42,
   "id": "9504d535",
   "metadata": {},
   "outputs": [
    {
     "data": {
      "text/plain": [
       "'Isha'"
      ]
     },
     "execution_count": 42,
     "metadata": {},
     "output_type": "execute_result"
    }
   ],
   "source": [
    "d[\"name\"]"
   ]
  },
  {
   "cell_type": "code",
   "execution_count": 43,
   "id": "9645b6bb",
   "metadata": {
    "scrolled": true
   },
   "outputs": [
    {
     "data": {
      "text/plain": [
       "'Isha'"
      ]
     },
     "execution_count": 43,
     "metadata": {},
     "output_type": "execute_result"
    }
   ],
   "source": [
    "d.get(\"name\")"
   ]
  },
  {
   "cell_type": "code",
   "execution_count": 44,
   "id": "71ad9a80",
   "metadata": {},
   "outputs": [
    {
     "name": "stdout",
     "output_type": "stream",
     "text": [
      "name   Isha\n",
      "marks   100\n",
      "courses   ['python', 'django']\n",
      "friends   {'kartik': 'machine learning'}\n"
     ]
    }
   ],
   "source": [
    "for k in d:\n",
    "    print(k,\" \",d[k])"
   ]
  },
  {
   "cell_type": "code",
   "execution_count": 45,
   "id": "4067334e",
   "metadata": {
    "scrolled": true
   },
   "outputs": [
    {
     "name": "stdout",
     "output_type": "stream",
     "text": [
      "name   Isha\n",
      "marks   100\n",
      "courses   ['python', 'django']\n",
      "friends   {'kartik': 'machine learning'}\n"
     ]
    }
   ],
   "source": [
    "for k,v in d.items():\n",
    "    print(k,\" \",v)"
   ]
  },
  {
   "cell_type": "code",
   "execution_count": 46,
   "id": "dfc0ffa2",
   "metadata": {},
   "outputs": [
    {
     "name": "stdout",
     "output_type": "stream",
     "text": [
      "name\n",
      "marks\n",
      "courses\n",
      "friends\n"
     ]
    }
   ],
   "source": [
    "for k in d.keys():\n",
    "    print(k)"
   ]
  },
  {
   "cell_type": "code",
   "execution_count": 47,
   "id": "a8e7ba3b",
   "metadata": {},
   "outputs": [
    {
     "name": "stdout",
     "output_type": "stream",
     "text": [
      "Isha\n",
      "100\n",
      "['python', 'django']\n",
      "{'kartik': 'machine learning'}\n"
     ]
    }
   ],
   "source": [
    "for v in d.values():\n",
    "    print(v)"
   ]
  },
  {
   "cell_type": "code",
   "execution_count": 48,
   "id": "5d46edc2",
   "metadata": {},
   "outputs": [],
   "source": [
    "d.clear()"
   ]
  },
  {
   "cell_type": "code",
   "execution_count": 49,
   "id": "d8b0df1b",
   "metadata": {},
   "outputs": [
    {
     "data": {
      "text/plain": [
       "{}"
      ]
     },
     "execution_count": 49,
     "metadata": {},
     "output_type": "execute_result"
    }
   ],
   "source": [
    "d"
   ]
  },
  {
   "cell_type": "markdown",
   "id": "21d3504f",
   "metadata": {},
   "source": [
    "## Introduction to Sets"
   ]
  },
  {
   "cell_type": "code",
   "execution_count": 50,
   "id": "a0dbb85c",
   "metadata": {},
   "outputs": [],
   "source": [
    "s = set()"
   ]
  },
  {
   "cell_type": "code",
   "execution_count": 51,
   "id": "57ec1e1b",
   "metadata": {},
   "outputs": [],
   "source": [
    "s = {1,2,3,2,1}"
   ]
  },
  {
   "cell_type": "markdown",
   "id": "e52d7ee3",
   "metadata": {},
   "source": [
    "1. a.union(b)\n",
    "2. a-b"
   ]
  },
  {
   "cell_type": "markdown",
   "id": "694b8eb2",
   "metadata": {},
   "source": [
    "## Comprehension Method"
   ]
  },
  {
   "cell_type": "code",
   "execution_count": 53,
   "id": "5747ef5b",
   "metadata": {},
   "outputs": [
    {
     "data": {
      "text/plain": [
       "[0, 1, 4, 9, 16, 25, 36, 49, 64, 81]"
      ]
     },
     "execution_count": 53,
     "metadata": {},
     "output_type": "execute_result"
    }
   ],
   "source": [
    "[i**2 for i in range(10)]"
   ]
  },
  {
   "cell_type": "code",
   "execution_count": 54,
   "id": "e994ae5f",
   "metadata": {},
   "outputs": [
    {
     "data": {
      "text/plain": [
       "<generator object <genexpr> at 0x7f8e0407b430>"
      ]
     },
     "execution_count": 54,
     "metadata": {},
     "output_type": "execute_result"
    }
   ],
   "source": [
    "(i**2 for i in range(10))"
   ]
  },
  {
   "cell_type": "code",
   "execution_count": null,
   "id": "f62583d7",
   "metadata": {},
   "outputs": [],
   "source": []
  }
 ],
 "metadata": {
  "kernelspec": {
   "display_name": "Python 3 (ipykernel)",
   "language": "python",
   "name": "python3"
  },
  "language_info": {
   "codemirror_mode": {
    "name": "ipython",
    "version": 3
   },
   "file_extension": ".py",
   "mimetype": "text/x-python",
   "name": "python",
   "nbconvert_exporter": "python",
   "pygments_lexer": "ipython3",
   "version": "3.8.10"
  }
 },
 "nbformat": 4,
 "nbformat_minor": 5
}
