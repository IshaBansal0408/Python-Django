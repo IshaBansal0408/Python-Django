{
 "cells": [
  {
   "cell_type": "markdown",
   "id": "35a7821c",
   "metadata": {},
   "source": [
    "# Introduction to Python"
   ]
  },
  {
   "cell_type": "markdown",
   "id": "535101e0",
   "metadata": {},
   "source": [
    "## Basics"
   ]
  },
  {
   "cell_type": "code",
   "execution_count": 1,
   "id": "47bac5fa",
   "metadata": {
    "scrolled": true
   },
   "outputs": [
    {
     "name": "stdout",
     "output_type": "stream",
     "text": [
      "Hello World\n"
     ]
    }
   ],
   "source": [
    "print(\"Hello World\")"
   ]
  },
  {
   "cell_type": "code",
   "execution_count": 2,
   "id": "c8562c9e",
   "metadata": {},
   "outputs": [],
   "source": [
    "# This is a comment"
   ]
  },
  {
   "cell_type": "markdown",
   "id": "c84b8ff6",
   "metadata": {},
   "source": [
    "Multi Line comments are 'Strings'."
   ]
  },
  {
   "cell_type": "code",
   "execution_count": 3,
   "id": "d44a2f51",
   "metadata": {
    "scrolled": true
   },
   "outputs": [
    {
     "data": {
      "text/plain": [
       "'I am a documentation string'"
      ]
     },
     "execution_count": 3,
     "metadata": {},
     "output_type": "execute_result"
    }
   ],
   "source": [
    "'''I am a documentation string'''"
   ]
  },
  {
   "cell_type": "code",
   "execution_count": 4,
   "id": "f98ecd2a",
   "metadata": {},
   "outputs": [
    {
     "name": "stdout",
     "output_type": "stream",
     "text": [
      "Hello\n"
     ]
    }
   ],
   "source": [
    "'''I am a documentation string acting as comment'''\n",
    "print(\"Hello\")"
   ]
  },
  {
   "cell_type": "markdown",
   "id": "3fbf3e19",
   "metadata": {},
   "source": [
    "## Literal Constants"
   ]
  },
  {
   "cell_type": "code",
   "execution_count": 5,
   "id": "8aecc834",
   "metadata": {},
   "outputs": [],
   "source": [
    "# Number\n",
    "a = 4\n",
    "# Float\n",
    "b = 1.5\n",
    "# Complex Number\n",
    "c = 1 + 5j"
   ]
  },
  {
   "cell_type": "code",
   "execution_count": 6,
   "id": "323a3c7d",
   "metadata": {},
   "outputs": [
    {
     "name": "stdout",
     "output_type": "stream",
     "text": [
      "<class 'int'>   <class 'float'>   <class 'complex'>\n"
     ]
    }
   ],
   "source": [
    "print(type(a),\" \", type(b),\" \",type(c))"
   ]
  },
  {
   "cell_type": "code",
   "execution_count": 8,
   "id": "e7ab13ed",
   "metadata": {},
   "outputs": [],
   "source": [
    "# Strings\n",
    "s1 = \"Hello I am Isha\"\n",
    "s2 = 'd'\n",
    "s3 = '''hello\n",
    "my name is\n",
    "Isha'''"
   ]
  },
  {
   "cell_type": "code",
   "execution_count": 11,
   "id": "582e28d8",
   "metadata": {},
   "outputs": [
    {
     "name": "stdout",
     "output_type": "stream",
     "text": [
      "Hello I am Isha \n",
      " d \n",
      " \n",
      "hello\n",
      "my name is\n",
      "Isha\n"
     ]
    }
   ],
   "source": [
    "print(s1,\"\\n\",s2,\"\\n\",s3)"
   ]
  },
  {
   "cell_type": "code",
   "execution_count": null,
   "id": "d8b840af",
   "metadata": {},
   "outputs": [],
   "source": []
  }
 ],
 "metadata": {
  "kernelspec": {
   "display_name": "Python 3 (ipykernel)",
   "language": "python",
   "name": "python3"
  },
  "language_info": {
   "codemirror_mode": {
    "name": "ipython",
    "version": 3
   },
   "file_extension": ".py",
   "mimetype": "text/x-python",
   "name": "python",
   "nbconvert_exporter": "python",
   "pygments_lexer": "ipython3",
   "version": "3.8.10"
  }
 },
 "nbformat": 4,
 "nbformat_minor": 5
}
