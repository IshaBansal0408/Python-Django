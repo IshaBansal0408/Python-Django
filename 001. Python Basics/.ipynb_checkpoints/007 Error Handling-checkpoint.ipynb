{
 "cells": [
  {
   "cell_type": "code",
   "execution_count": 1,
   "id": "c7d5489f",
   "metadata": {},
   "outputs": [
    {
     "name": "stdout",
     "output_type": "stream",
     "text": [
      "ValueError\n"
     ]
    }
   ],
   "source": [
    "try:\n",
    "#     r = 2/0\n",
    "    a = int(\"isha\")\n",
    "except ZeroDivisionError:\n",
    "    print(\"ZeroDivisionError\")\n",
    "except ValueError:\n",
    "    print(\"ValueError\")"
   ]
  },
  {
   "cell_type": "code",
   "execution_count": 2,
   "id": "d9163b14",
   "metadata": {},
   "outputs": [
    {
     "name": "stdout",
     "output_type": "stream",
     "text": [
      "invalid literal for int() with base 10: 'isha'\n"
     ]
    }
   ],
   "source": [
    "try:\n",
    "#     print(10/0)\n",
    "    c = int(\"isha\")\n",
    "except Exception as e:\n",
    "    print(e)\n",
    "#     print(\"Some Exception Occured\")"
   ]
  },
  {
   "cell_type": "code",
   "execution_count": 3,
   "id": "4024b0f3",
   "metadata": {},
   "outputs": [
    {
     "name": "stdout",
     "output_type": "stream",
     "text": [
      "Hello\n",
      "('My custom Exception', 1, 3, 42)\n",
      "('My custom Exception', 1, 3, 42)\n"
     ]
    }
   ],
   "source": [
    "try:\n",
    "    print(\"Hello\")\n",
    "    raise Exception(\"My custom Exception\",1,3,42)\n",
    "    print(\"Hello\")\n",
    "except Exception as e:\n",
    "    print(e)\n",
    "    print(e.args)\n",
    "#     print(e.message)"
   ]
  },
  {
   "cell_type": "code",
   "execution_count": 4,
   "id": "019383cd",
   "metadata": {},
   "outputs": [
    {
     "name": "stdout",
     "output_type": "stream",
     "text": [
      "exceptions must derive from BaseException\n"
     ]
    }
   ],
   "source": [
    "class MyException:\n",
    "    def __init__(self,msg):\n",
    "        self.message = msg\n",
    "    def __str__(self):\n",
    "        return self.message\n",
    "try:\n",
    "    raise MyException(\"Some Error Happened\")\n",
    "except Exception as e:\n",
    "    print(e)"
   ]
  },
  {
   "cell_type": "code",
   "execution_count": 5,
   "id": "87439eb6",
   "metadata": {},
   "outputs": [
    {
     "name": "stdout",
     "output_type": "stream",
     "text": [
      "Some Error Happened\n",
      "Some Error Happened\n"
     ]
    }
   ],
   "source": [
    "class MyException(Exception):\n",
    "    def __init__(self,msg):\n",
    "        self.message = msg\n",
    "    def __str__(self):\n",
    "        return self.message\n",
    "try:\n",
    "    raise MyException(\"Some Error Happened\")\n",
    "except Exception as e:\n",
    "    print(e)\n",
    "    print(e.message)"
   ]
  },
  {
   "cell_type": "code",
   "execution_count": 6,
   "id": "807e9e44",
   "metadata": {},
   "outputs": [
    {
     "name": "stdout",
     "output_type": "stream",
     "text": [
      "Hello\n",
      "Exception\n",
      "Reached the End\n"
     ]
    }
   ],
   "source": [
    "try:\n",
    "    print(\"Hello\")\n",
    "    print(2/0)\n",
    "except:\n",
    "    print(\"Exception\")\n",
    "# Operations that need to be performed based on if exception has occurred or not\n",
    "else:\n",
    "    print(\"yay! No exceptions\")\n",
    "# Clean-up code\n",
    "finally:\n",
    "    print(\"Reached the End\")"
   ]
  },
  {
   "cell_type": "code",
   "execution_count": 7,
   "id": "ffe6d301",
   "metadata": {},
   "outputs": [
    {
     "data": {
      "text/plain": [
       "4"
      ]
     },
     "execution_count": 7,
     "metadata": {},
     "output_type": "execute_result"
    }
   ],
   "source": [
    "def func():\n",
    "    try:\n",
    "        return 1\n",
    "    except:\n",
    "        return 2\n",
    "    else:\n",
    "        return 3\n",
    "    finally:\n",
    "        #Truncated all other return statements\n",
    "        return 4\n",
    "func()"
   ]
  },
  {
   "cell_type": "code",
   "execution_count": 8,
   "id": "7ee69b55",
   "metadata": {},
   "outputs": [
    {
     "name": "stdout",
     "output_type": "stream",
     "text": [
      "Hello World\n"
     ]
    }
   ],
   "source": [
    "try:\n",
    "    f = open(\"fileHandle.txt\",\"r\")\n",
    "    print(f.read())\n",
    "except Exception as e:\n",
    "    print(e)\n",
    "finally:\n",
    "    f.close()"
   ]
  },
  {
   "cell_type": "code",
   "execution_count": null,
   "id": "d5c64201",
   "metadata": {},
   "outputs": [],
   "source": []
  },
  {
   "cell_type": "code",
   "execution_count": null,
   "id": "56ece8e9",
   "metadata": {},
   "outputs": [],
   "source": []
  }
 ],
 "metadata": {
  "kernelspec": {
   "display_name": "Python 3 (ipykernel)",
   "language": "python",
   "name": "python3"
  },
  "language_info": {
   "codemirror_mode": {
    "name": "ipython",
    "version": 3
   },
   "file_extension": ".py",
   "mimetype": "text/x-python",
   "name": "python",
   "nbconvert_exporter": "python",
   "pygments_lexer": "ipython3",
   "version": "3.8.10"
  }
 },
 "nbformat": 4,
 "nbformat_minor": 5
}
