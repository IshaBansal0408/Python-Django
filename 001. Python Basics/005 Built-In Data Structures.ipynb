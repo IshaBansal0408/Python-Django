{
 "cells": [
  {
   "cell_type": "markdown",
   "id": "2a40aad3",
   "metadata": {},
   "source": [
    "## Introduction to Strings\n",
    "\n",
    "1. Collection of characters\n",
    "2. Ordered\n",
    "3. Immutable"
   ]
  },
  {
   "cell_type": "code",
   "execution_count": 1,
   "id": "69061baa",
   "metadata": {},
   "outputs": [
    {
     "name": "stdout",
     "output_type": "stream",
     "text": [
      "Python\n"
     ]
    }
   ],
   "source": [
    "s1 = \"Python\"\n",
    "print(s1)"
   ]
  },
  {
   "cell_type": "code",
   "execution_count": 2,
   "id": "cdf99e0b",
   "metadata": {},
   "outputs": [
    {
     "name": "stdout",
     "output_type": "stream",
     "text": [
      "Python go!\n"
     ]
    }
   ],
   "source": [
    "s1 += \" go!\"\n",
    "print(s1)"
   ]
  },
  {
   "cell_type": "code",
   "execution_count": 3,
   "id": "0bc79828",
   "metadata": {},
   "outputs": [
    {
     "name": "stdout",
     "output_type": "stream",
     "text": [
      "1-2-3\n",
      "1-2-3\n",
      "2-3-1\n",
      "1-2-3\n"
     ]
    }
   ],
   "source": [
    "a,b,c = 1,2,3\n",
    "print(\"%d-%d-%d\"%(a,b,c))\n",
    "print(\"{}-{}-{}\".format(a,b,c))\n",
    "print(\"{1}-{2}-{0}\".format(a,b,c))\n",
    "print(f\"{a}-{b}-{c}\")"
   ]
  },
  {
   "cell_type": "code",
   "execution_count": 4,
   "id": "681df01f",
   "metadata": {},
   "outputs": [],
   "source": [
    "a = \"     Isha .   \""
   ]
  },
  {
   "cell_type": "code",
   "execution_count": 5,
   "id": "0f1085e7",
   "metadata": {},
   "outputs": [
    {
     "data": {
      "text/plain": [
       "'Isha .'"
      ]
     },
     "execution_count": 5,
     "metadata": {},
     "output_type": "execute_result"
    }
   ],
   "source": [
    "a.strip()"
   ]
  },
  {
   "cell_type": "code",
   "execution_count": 6,
   "id": "458c513c",
   "metadata": {},
   "outputs": [
    {
     "data": {
      "text/plain": [
       "['Isha', '.']"
      ]
     },
     "execution_count": 6,
     "metadata": {},
     "output_type": "execute_result"
    }
   ],
   "source": [
    "a.split()"
   ]
  },
  {
   "cell_type": "code",
   "execution_count": 7,
   "id": "34c3625a",
   "metadata": {},
   "outputs": [
    {
     "data": {
      "text/plain": [
       "['     Ish', ' .   ']"
      ]
     },
     "execution_count": 7,
     "metadata": {},
     "output_type": "execute_result"
    }
   ],
   "source": [
    "a.split('a')"
   ]
  },
  {
   "cell_type": "code",
   "execution_count": 8,
   "id": "a784dd14",
   "metadata": {},
   "outputs": [
    {
     "data": {
      "text/plain": [
       "'Ihha .'"
      ]
     },
     "execution_count": 8,
     "metadata": {},
     "output_type": "execute_result"
    }
   ],
   "source": [
    "a.strip().replace('s','h')"
   ]
  },
  {
   "cell_type": "code",
   "execution_count": 9,
   "id": "5be5c821",
   "metadata": {},
   "outputs": [
    {
     "data": {
      "text/plain": [
       "1"
      ]
     },
     "execution_count": 9,
     "metadata": {},
     "output_type": "execute_result"
    }
   ],
   "source": [
    "a.count(\"a\")"
   ]
  },
  {
   "cell_type": "code",
   "execution_count": 10,
   "id": "018c762a",
   "metadata": {},
   "outputs": [
    {
     "data": {
      "text/plain": [
       "0"
      ]
     },
     "execution_count": 10,
     "metadata": {},
     "output_type": "execute_result"
    }
   ],
   "source": [
    "a.count(\"aa\")"
   ]
  },
  {
   "cell_type": "markdown",
   "id": "0a36cca3",
   "metadata": {},
   "source": [
    "## Introduction to Lists\n",
    "\n",
    "1. Ordered Data"
   ]
  },
  {
   "cell_type": "code",
   "execution_count": null,
   "id": "4c09262a",
   "metadata": {},
   "outputs": [],
   "source": []
  },
  {
   "cell_type": "code",
   "execution_count": null,
   "id": "1bfe3ce9",
   "metadata": {},
   "outputs": [],
   "source": []
  }
 ],
 "metadata": {
  "kernelspec": {
   "display_name": "Python 3 (ipykernel)",
   "language": "python",
   "name": "python3"
  },
  "language_info": {
   "codemirror_mode": {
    "name": "ipython",
    "version": 3
   },
   "file_extension": ".py",
   "mimetype": "text/x-python",
   "name": "python",
   "nbconvert_exporter": "python",
   "pygments_lexer": "ipython3",
   "version": "3.8.10"
  }
 },
 "nbformat": 4,
 "nbformat_minor": 5
}
