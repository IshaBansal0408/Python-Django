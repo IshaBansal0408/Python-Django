{
 "cells": [
  {
   "cell_type": "markdown",
   "id": "e51d75bc",
   "metadata": {},
   "source": [
    "# Functions"
   ]
  },
  {
   "cell_type": "markdown",
   "id": "3aa128d9",
   "metadata": {},
   "source": [
    "## Basics"
   ]
  },
  {
   "cell_type": "code",
   "execution_count": 1,
   "id": "8f7e1c23",
   "metadata": {},
   "outputs": [],
   "source": [
    "def knock():\n",
    "    print(\"Knock Knock Knock Penny!\")"
   ]
  },
  {
   "cell_type": "code",
   "execution_count": 2,
   "id": "bf96570a",
   "metadata": {},
   "outputs": [
    {
     "name": "stdout",
     "output_type": "stream",
     "text": [
      "Knock Knock Knock Penny!\n",
      "Knock Knock Knock Penny!\n",
      "Knock Knock Knock Penny!\n"
     ]
    }
   ],
   "source": [
    "for i in range (3):\n",
    "    knock()"
   ]
  },
  {
   "cell_type": "code",
   "execution_count": 3,
   "id": "3410dc0f",
   "metadata": {},
   "outputs": [],
   "source": [
    "def knock(name):\n",
    "    print(\"Knock Knock Knock {}!\".format(name))"
   ]
  },
  {
   "cell_type": "code",
   "execution_count": 4,
   "id": "f75a753e",
   "metadata": {},
   "outputs": [
    {
     "name": "stdout",
     "output_type": "stream",
     "text": [
      "Knock Knock Knock Isha!\n",
      "Knock Knock Knock Isha!\n",
      "Knock Knock Knock Isha!\n"
     ]
    }
   ],
   "source": [
    "for i in range(3):\n",
    "    knock(\"Isha\")"
   ]
  },
  {
   "cell_type": "markdown",
   "id": "7acdf455",
   "metadata": {},
   "source": [
    "## Return Statement"
   ]
  },
  {
   "cell_type": "code",
   "execution_count": 5,
   "id": "97c29d95",
   "metadata": {},
   "outputs": [],
   "source": [
    "def add_4(a):\n",
    "    a+=4\n",
    "    return a"
   ]
  },
  {
   "cell_type": "code",
   "execution_count": 6,
   "id": "4f90825a",
   "metadata": {},
   "outputs": [
    {
     "name": "stdout",
     "output_type": "stream",
     "text": [
      "8\n"
     ]
    }
   ],
   "source": [
    "res = add_4(4)\n",
    "print(res)"
   ]
  },
  {
   "cell_type": "markdown",
   "id": "86bbca83",
   "metadata": {},
   "source": [
    "## Local and Global Variables"
   ]
  },
  {
   "cell_type": "code",
   "execution_count": 7,
   "id": "74007a2a",
   "metadata": {},
   "outputs": [
    {
     "name": "stdout",
     "output_type": "stream",
     "text": [
      "457\n",
      "457\n"
     ]
    }
   ],
   "source": [
    "# global variable\n",
    "x = 10\n",
    "\n",
    "def show():\n",
    "    # x+=3 => error\n",
    "    global x # force python to use the global x in this function\n",
    "    # local variable\n",
    "    x= 454\n",
    "    x+=3\n",
    "    print(x)\n",
    "\n",
    "show()\n",
    "print(x)"
   ]
  },
  {
   "cell_type": "code",
   "execution_count": 8,
   "id": "618c2483",
   "metadata": {},
   "outputs": [],
   "source": [
    "del x"
   ]
  },
  {
   "cell_type": "markdown",
   "id": "b9ba177a",
   "metadata": {},
   "source": [
    "### Enclosures"
   ]
  },
  {
   "cell_type": "code",
   "execution_count": 9,
   "id": "7a884d7f",
   "metadata": {},
   "outputs": [
    {
     "name": "stdout",
     "output_type": "stream",
     "text": [
      "13\n",
      "13\n"
     ]
    }
   ],
   "source": [
    "def outer():\n",
    "    x = 10\n",
    "    def inner():\n",
    "#         global x => error\n",
    "#         x+=3 => error\n",
    "        nonlocal x\n",
    "        x+=3\n",
    "        print(x)\n",
    "    inner()\n",
    "    print(x)\n",
    "outer()"
   ]
  },
  {
   "cell_type": "markdown",
   "id": "526ee7c4",
   "metadata": {},
   "source": [
    "## Function Arguments"
   ]
  },
  {
   "cell_type": "markdown",
   "id": "5bb8f99d",
   "metadata": {},
   "source": [
    "Packing of Arguments"
   ]
  },
  {
   "cell_type": "code",
   "execution_count": 10,
   "id": "8966ccac",
   "metadata": {},
   "outputs": [
    {
     "name": "stdout",
     "output_type": "stream",
     "text": [
      "(1, 2, 3, 5, 5, 3, 21, 2)\n",
      "(5, 5, 3, 21, 2)\n"
     ]
    }
   ],
   "source": [
    "# Positional Arguments\n",
    "# Pack arguments into a Tuple\n",
    "# args need atleast 3 arguments\n",
    "\n",
    "def show(*args):\n",
    "    print(args)\n",
    "show(1,2,3,5,5,3,21,2)\n",
    "\n",
    "def show(a,b,c,*args):\n",
    "    print(args)\n",
    "show(1,2,3,5,5,3,21,2)"
   ]
  },
  {
   "cell_type": "code",
   "execution_count": 11,
   "id": "8a376866",
   "metadata": {},
   "outputs": [
    {
     "name": "stdout",
     "output_type": "stream",
     "text": [
      "{'name': 'Isha', 'age': 22}\n"
     ]
    }
   ],
   "source": [
    "# key worded arguments\n",
    "# stored in form of dictionary\n",
    "def show(**kwargs):\n",
    "    print(kwargs)\n",
    "    \n",
    "show(name=\"Isha\",age=22)"
   ]
  },
  {
   "cell_type": "markdown",
   "id": "5015bdb9",
   "metadata": {},
   "source": [
    "## Lambda Functions\n",
    "\n",
    "One liner functions - Syntactical Sugar"
   ]
  },
  {
   "cell_type": "code",
   "execution_count": 12,
   "id": "73990321",
   "metadata": {},
   "outputs": [],
   "source": [
    "add = lambda a,b : a+b"
   ]
  },
  {
   "cell_type": "code",
   "execution_count": 13,
   "id": "7d68fb78",
   "metadata": {},
   "outputs": [
    {
     "data": {
      "text/plain": [
       "<function __main__.<lambda>(a, b)>"
      ]
     },
     "execution_count": 13,
     "metadata": {},
     "output_type": "execute_result"
    }
   ],
   "source": [
    "add"
   ]
  },
  {
   "cell_type": "code",
   "execution_count": 14,
   "id": "9c3509e4",
   "metadata": {},
   "outputs": [
    {
     "data": {
      "text/plain": [
       "7"
      ]
     },
     "execution_count": 14,
     "metadata": {},
     "output_type": "execute_result"
    }
   ],
   "source": [
    "add(3,4)"
   ]
  },
  {
   "cell_type": "code",
   "execution_count": 15,
   "id": "17752990",
   "metadata": {},
   "outputs": [
    {
     "data": {
      "text/plain": [
       "[('a', 10), ('b', 98), ('c', 34), ('d', 23)]"
      ]
     },
     "execution_count": 15,
     "metadata": {},
     "output_type": "execute_result"
    }
   ],
   "source": [
    "a = [(\"a\",10),(\"b\",98),(\"c\",34),(\"d\",23)]\n",
    "sorted(a)"
   ]
  },
  {
   "cell_type": "code",
   "execution_count": 16,
   "id": "5209f912",
   "metadata": {},
   "outputs": [
    {
     "data": {
      "text/plain": [
       "[('a', 10), ('d', 23), ('c', 34), ('b', 98)]"
      ]
     },
     "execution_count": 16,
     "metadata": {},
     "output_type": "execute_result"
    }
   ],
   "source": [
    "sorted(a,key = lambda x:x[1])"
   ]
  },
  {
   "cell_type": "markdown",
   "id": "cca62384",
   "metadata": {},
   "source": [
    "## Decorators"
   ]
  },
  {
   "cell_type": "code",
   "execution_count": 17,
   "id": "ce74b78b",
   "metadata": {},
   "outputs": [],
   "source": [
    "users = {\"Isha\":\"1234\",\"kartik\":\"3456\"}"
   ]
  },
  {
   "cell_type": "code",
   "execution_count": 18,
   "id": "7cf50198",
   "metadata": {},
   "outputs": [],
   "source": [
    "def show(username,password):\n",
    "    if(username in users and users[username]==password):\n",
    "        print(\"hello world\")\n",
    "    else:\n",
    "        print(\"Invalid\")"
   ]
  },
  {
   "cell_type": "code",
   "execution_count": 19,
   "id": "f54a0900",
   "metadata": {},
   "outputs": [
    {
     "name": "stdout",
     "output_type": "stream",
     "text": [
      "hello world\n"
     ]
    }
   ],
   "source": [
    "show(\"Isha\",\"1234\")"
   ]
  },
  {
   "cell_type": "code",
   "execution_count": 20,
   "id": "908ae79a",
   "metadata": {},
   "outputs": [
    {
     "name": "stdout",
     "output_type": "stream",
     "text": [
      "Invalid\n"
     ]
    }
   ],
   "source": [
    "show(\"Isha\",\"1ss234\")"
   ]
  },
  {
   "cell_type": "code",
   "execution_count": 21,
   "id": "706e2b84",
   "metadata": {},
   "outputs": [],
   "source": [
    "def temp(*args,**kwargs):\n",
    "    print(args)\n",
    "    print(kwargs)"
   ]
  },
  {
   "cell_type": "code",
   "execution_count": 22,
   "id": "9976ac70",
   "metadata": {},
   "outputs": [
    {
     "name": "stdout",
     "output_type": "stream",
     "text": [
      "((1, 2, 3),)\n",
      "{}\n"
     ]
    }
   ],
   "source": [
    "temp((1,2,3))"
   ]
  },
  {
   "cell_type": "code",
   "execution_count": 23,
   "id": "aad006a0",
   "metadata": {},
   "outputs": [
    {
     "name": "stdout",
     "output_type": "stream",
     "text": [
      "(1, 2, 3)\n",
      "{}\n"
     ]
    }
   ],
   "source": [
    "temp(*(1,2,3))"
   ]
  },
  {
   "cell_type": "code",
   "execution_count": 24,
   "id": "adfb3164",
   "metadata": {},
   "outputs": [],
   "source": [
    "# One function requires another function\n",
    "def login_req(func):\n",
    "    def wrapper(username,password,*args,**kwargs):\n",
    "        if(username in users and users[username]==password):\n",
    "            print(\"All good!\")\n",
    "            func(*args)\n",
    "        else:\n",
    "            print(\"Ehhh Not Valid\")\n",
    "    return wrapper"
   ]
  },
  {
   "cell_type": "code",
   "execution_count": 25,
   "id": "4262eb43",
   "metadata": {},
   "outputs": [],
   "source": [
    "def add(a,b):\n",
    "    print(a+b)"
   ]
  },
  {
   "cell_type": "code",
   "execution_count": 26,
   "id": "dabffd33",
   "metadata": {},
   "outputs": [
    {
     "name": "stdout",
     "output_type": "stream",
     "text": [
      "3\n"
     ]
    }
   ],
   "source": [
    "add(1,2)"
   ]
  },
  {
   "cell_type": "code",
   "execution_count": 27,
   "id": "8715b9b0",
   "metadata": {},
   "outputs": [],
   "source": [
    "protected_Add = login_req(add)"
   ]
  },
  {
   "cell_type": "code",
   "execution_count": 28,
   "id": "07b17f64",
   "metadata": {},
   "outputs": [
    {
     "name": "stdout",
     "output_type": "stream",
     "text": [
      "All good!\n",
      "3\n"
     ]
    }
   ],
   "source": [
    "protected_Add(\"Isha\",\"1234\",1,2)"
   ]
  },
  {
   "cell_type": "code",
   "execution_count": 29,
   "id": "54f5f8b3",
   "metadata": {},
   "outputs": [
    {
     "name": "stdout",
     "output_type": "stream",
     "text": [
      "Ehhh Not Valid\n"
     ]
    }
   ],
   "source": [
    "protected_Add(\"Isha\",\"1dd234\",1,2)"
   ]
  },
  {
   "cell_type": "code",
   "execution_count": 30,
   "id": "5365b37a",
   "metadata": {},
   "outputs": [],
   "source": [
    "@login_req\n",
    "def add(a,b):\n",
    "    print(a+b)"
   ]
  },
  {
   "cell_type": "code",
   "execution_count": 31,
   "id": "e1693f83",
   "metadata": {},
   "outputs": [
    {
     "name": "stdout",
     "output_type": "stream",
     "text": [
      "Ehhh Not Valid\n"
     ]
    }
   ],
   "source": [
    "add(\"Isha\",\"1dd234\",1,2)"
   ]
  },
  {
   "cell_type": "code",
   "execution_count": 32,
   "id": "2493eb3c",
   "metadata": {},
   "outputs": [
    {
     "name": "stdout",
     "output_type": "stream",
     "text": [
      "All good!\n",
      "3\n"
     ]
    }
   ],
   "source": [
    "add(\"Isha\",\"1234\",1,2)"
   ]
  },
  {
   "cell_type": "code",
   "execution_count": null,
   "id": "81a9a8e4",
   "metadata": {},
   "outputs": [],
   "source": []
  }
 ],
 "metadata": {
  "kernelspec": {
   "display_name": "Python 3 (ipykernel)",
   "language": "python",
   "name": "python3"
  },
  "language_info": {
   "codemirror_mode": {
    "name": "ipython",
    "version": 3
   },
   "file_extension": ".py",
   "mimetype": "text/x-python",
   "name": "python",
   "nbconvert_exporter": "python",
   "pygments_lexer": "ipython3",
   "version": "3.8.10"
  }
 },
 "nbformat": 4,
 "nbformat_minor": 5
}
