{
 "cells": [
  {
   "cell_type": "markdown",
   "id": "3bdd90c9",
   "metadata": {},
   "source": [
    "## Asynchronus Programming\n",
    "\n",
    "- Multi Processes\n",
    "- Multi Threading - Context Switiching is taken care by OS\n",
    "- Couroutines - Programmer has control over context switching\n",
    "- AsyncIO"
   ]
  },
  {
   "cell_type": "markdown",
   "id": "75301a36",
   "metadata": {},
   "source": [
    "## MutiProcesses"
   ]
  },
  {
   "cell_type": "code",
   "execution_count": 8,
   "id": "2b0716f0",
   "metadata": {},
   "outputs": [
    {
     "name": "stdout",
     "output_type": "stream",
     "text": [
      "419\n",
      "\n",
      "\n",
      "Hello\n",
      "1625\n",
      "\n"
     ]
    }
   ],
   "source": [
    "from multiprocessing import Process\n",
    "\n",
    "def f1(n=4):\n",
    "    print(n**2)\n",
    "#     for i in range(1000000):pass\n",
    "    \n",
    "processList = []\n",
    "for i in range(5):\n",
    "    processList.append(Process(target=f1,args=(i+1,)))\n",
    "for p in processList:\n",
    "    p.start()\n",
    "print(\"Hello\")"
   ]
  },
  {
   "cell_type": "code",
   "execution_count": 3,
   "id": "52b529b0",
   "metadata": {},
   "outputs": [],
   "source": [
    "for p in processList:\n",
    "    p.join()"
   ]
  },
  {
   "cell_type": "markdown",
   "id": "cde2035f",
   "metadata": {},
   "source": [
    "## Multi-Threading"
   ]
  },
  {
   "cell_type": "code",
   "execution_count": null,
   "id": "73b880dd",
   "metadata": {},
   "outputs": [],
   "source": [
    "from threading import T"
   ]
  },
  {
   "cell_type": "code",
   "execution_count": null,
   "id": "34a0dcde",
   "metadata": {},
   "outputs": [],
   "source": []
  },
  {
   "cell_type": "code",
   "execution_count": null,
   "id": "11e755d8",
   "metadata": {},
   "outputs": [],
   "source": []
  }
 ],
 "metadata": {
  "kernelspec": {
   "display_name": "Python 3 (ipykernel)",
   "language": "python",
   "name": "python3"
  },
  "language_info": {
   "codemirror_mode": {
    "name": "ipython",
    "version": 3
   },
   "file_extension": ".py",
   "mimetype": "text/x-python",
   "name": "python",
   "nbconvert_exporter": "python",
   "pygments_lexer": "ipython3",
   "version": "3.8.10"
  }
 },
 "nbformat": 4,
 "nbformat_minor": 5
}
