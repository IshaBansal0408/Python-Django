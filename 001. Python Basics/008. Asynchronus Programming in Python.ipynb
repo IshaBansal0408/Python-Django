{
 "cells": [
  {
   "cell_type": "markdown",
   "id": "a0dbb10d",
   "metadata": {},
   "source": [
    "## Asynchronus Programming\n",
    "\n",
    "- Multi Processes\n",
    "- Multi Threading - Context Switiching is taken care by OS\n",
    "- Couroutines - Programmer has control over context switching\n",
    "- AsyncIO"
   ]
  },
  {
   "cell_type": "markdown",
   "id": "6ba0780b",
   "metadata": {},
   "source": [
    "## MutiProcesses"
   ]
  },
  {
   "cell_type": "code",
   "execution_count": 1,
   "id": "dca6ae97",
   "metadata": {},
   "outputs": [
    {
     "name": "stdout",
     "output_type": "stream",
     "text": [
      "1\n",
      "49Hello\n",
      "\n",
      "16\n",
      "\n",
      "25\n"
     ]
    }
   ],
   "source": [
    "from multiprocessing import Process\n",
    "\n",
    "def f1(n=4):\n",
    "    print(n**2)\n",
    "#     for i in range(1000000):pass\n",
    "    \n",
    "processList = []\n",
    "for i in range(5):\n",
    "    processList.append(Process(target=f1,args=(i+1,)))\n",
    "for p in processList:\n",
    "    p.start()\n",
    "print(\"Hello\")"
   ]
  },
  {
   "cell_type": "code",
   "execution_count": 2,
   "id": "50015e77",
   "metadata": {},
   "outputs": [],
   "source": [
    "for p in processList:\n",
    "    p.join()"
   ]
  },
  {
   "cell_type": "markdown",
   "id": "6a762d5f",
   "metadata": {},
   "source": [
    "## Multi-Threading"
   ]
  },
  {
   "cell_type": "code",
   "execution_count": 3,
   "id": "2d3503de",
   "metadata": {},
   "outputs": [],
   "source": [
    "from threading import Thread"
   ]
  },
  {
   "cell_type": "code",
   "execution_count": 4,
   "id": "4bd16052",
   "metadata": {},
   "outputs": [],
   "source": [
    "def f1(n):\n",
    "    print(\"Square of {} is {}\".format(n,n**2))\n",
    "def f2(n):\n",
    "    print(\"Cube of {} is {}\".format(n,n**3))"
   ]
  },
  {
   "cell_type": "code",
   "execution_count": 5,
   "id": "ca743ea6",
   "metadata": {},
   "outputs": [],
   "source": [
    "t1 = Thread(target=f1,args=(4,))\n",
    "t2 = Thread(target=f2,args=(6,))"
   ]
  },
  {
   "cell_type": "code",
   "execution_count": 6,
   "id": "5d0521ea",
   "metadata": {},
   "outputs": [
    {
     "name": "stdout",
     "output_type": "stream",
     "text": [
      "Square of 4 is 16\n",
      "Cube of 6 is 216\n",
      "Hello\n"
     ]
    }
   ],
   "source": [
    "t1.start()\n",
    "t2.start()\n",
    "print(\"Hello\")"
   ]
  },
  {
   "cell_type": "code",
   "execution_count": 7,
   "id": "9c04dba4",
   "metadata": {},
   "outputs": [],
   "source": [
    "from queue import Queue"
   ]
  },
  {
   "cell_type": "code",
   "execution_count": 8,
   "id": "004214c4",
   "metadata": {},
   "outputs": [],
   "source": [
    "def f3(q):\n",
    "    for i in range(5):\n",
    "        q.put(i)\n",
    "        print(\"F3: \",i)\n",
    "def f4(q):\n",
    "    while True:\n",
    "        data = q.get()\n",
    "        print(\"F4: \",data)"
   ]
  },
  {
   "cell_type": "code",
   "execution_count": 9,
   "id": "bac463e0",
   "metadata": {},
   "outputs": [],
   "source": [
    "q = Queue()\n",
    "t3 = Thread(target=f3,args=(q,))\n",
    "t4 = Thread(target=f4,args=(q,))"
   ]
  },
  {
   "cell_type": "code",
   "execution_count": 10,
   "id": "0e82377b",
   "metadata": {},
   "outputs": [
    {
     "name": "stdout",
     "output_type": "stream",
     "text": [
      "F3:  0\n",
      "F3:  1\n",
      "F3:  2\n",
      "F3:  3\n",
      "F3:  4\n",
      "F4:  0\n",
      "F4:  1\n",
      "F4:  2\n",
      "F4:  3\n",
      "F4:  4\n"
     ]
    }
   ],
   "source": [
    "t3.start()\n",
    "t4.start()"
   ]
  },
  {
   "cell_type": "markdown",
   "id": "78a8042f",
   "metadata": {},
   "source": [
    "## Couroutines"
   ]
  },
  {
   "cell_type": "code",
   "execution_count": 11,
   "id": "510491a7",
   "metadata": {},
   "outputs": [],
   "source": [
    "def f5(prefix):\n",
    "    try:\n",
    "        while True:\n",
    "            name = (yield)\n",
    "            print(prefix+\" : \"+name)\n",
    "    except GeneratorExit:\n",
    "        print(\"Complete!\")"
   ]
  },
  {
   "cell_type": "code",
   "execution_count": 12,
   "id": "74fcf702",
   "metadata": {},
   "outputs": [],
   "source": [
    "c0 = f5(\"cool\")"
   ]
  },
  {
   "cell_type": "code",
   "execution_count": 13,
   "id": "2a1b2dd2",
   "metadata": {},
   "outputs": [],
   "source": [
    "# Initialization Step\n",
    "next(c0)"
   ]
  },
  {
   "cell_type": "code",
   "execution_count": 14,
   "id": "84b11332",
   "metadata": {},
   "outputs": [
    {
     "name": "stdout",
     "output_type": "stream",
     "text": [
      "cool : Isha\n"
     ]
    }
   ],
   "source": [
    "# Sending data and control\n",
    "c0.send(\"Isha\")"
   ]
  },
  {
   "cell_type": "code",
   "execution_count": 15,
   "id": "fd41bfd4",
   "metadata": {},
   "outputs": [
    {
     "name": "stdout",
     "output_type": "stream",
     "text": [
      "cool : Kartik\n"
     ]
    }
   ],
   "source": [
    "c0.send(\"Kartik\")"
   ]
  },
  {
   "cell_type": "code",
   "execution_count": 16,
   "id": "b33da2c5",
   "metadata": {},
   "outputs": [
    {
     "name": "stdout",
     "output_type": "stream",
     "text": [
      "Complete!\n"
     ]
    }
   ],
   "source": [
    "c0.close()"
   ]
  },
  {
   "cell_type": "markdown",
   "id": "cbefe033",
   "metadata": {},
   "source": [
    "## AsyncIO Library"
   ]
  },
  {
   "cell_type": "code",
   "execution_count": 17,
   "id": "4a54add7",
   "metadata": {},
   "outputs": [],
   "source": [
    "import asyncio\n",
    "import time"
   ]
  },
  {
   "cell_type": "code",
   "execution_count": 18,
   "id": "e0ae9fe5",
   "metadata": {},
   "outputs": [],
   "source": [
    "async def main():\n",
    "    print(\"Hello World\")\n",
    "    await asyncio.sleep(1)\n",
    "    print(\"Welcome\")"
   ]
  },
  {
   "cell_type": "code",
   "execution_count": 19,
   "id": "01b96ed6",
   "metadata": {},
   "outputs": [],
   "source": [
    "# doesn't work in new version of Jupyter notebook\n",
    "# asyncio.run(main())"
   ]
  },
  {
   "cell_type": "code",
   "execution_count": 20,
   "id": "61402c6c",
   "metadata": {},
   "outputs": [
    {
     "name": "stdout",
     "output_type": "stream",
     "text": [
      "Hello World\n",
      "Welcome\n"
     ]
    }
   ],
   "source": [
    "await main()"
   ]
  },
  {
   "cell_type": "code",
   "execution_count": 21,
   "id": "77892368",
   "metadata": {},
   "outputs": [
    {
     "name": "stdout",
     "output_type": "stream",
     "text": [
      "13:26:29\n",
      "Waited for 2 seconds\n",
      "Waited for 3 seconds\n",
      "13:26:34\n"
     ]
    }
   ],
   "source": [
    "async def waiter(n):\n",
    "    await asyncio.sleep(n)\n",
    "    print(\"Waited for {} seconds\".format(n))\n",
    "    \n",
    "async def main():\n",
    "    print(time.strftime('%X'))\n",
    "    await waiter(2)\n",
    "    await waiter(3)\n",
    "    print(time.strftime('%X'))\n",
    "\n",
    "await main()"
   ]
  },
  {
   "cell_type": "code",
   "execution_count": 22,
   "id": "95b42e2f",
   "metadata": {},
   "outputs": [
    {
     "name": "stdout",
     "output_type": "stream",
     "text": [
      "13:26:34\n",
      "Waited for 2 seconds\n",
      "Waited for 3 seconds\n",
      "13:26:37\n"
     ]
    }
   ],
   "source": [
    "async def main():\n",
    "    task1 = asyncio.create_task(waiter(2))\n",
    "    task2 = asyncio.create_task(waiter(3))\n",
    "    print(time.strftime('%X'))\n",
    "    await task1\n",
    "    await task2\n",
    "    print(time.strftime('%X'))\n",
    "await main()"
   ]
  },
  {
   "cell_type": "markdown",
   "id": "ef4c68d0",
   "metadata": {},
   "source": [
    "### Making Async Requests"
   ]
  },
  {
   "cell_type": "code",
   "execution_count": 23,
   "id": "15ab1f15",
   "metadata": {},
   "outputs": [],
   "source": [
    "import asyncio\n",
    "import aiohttp"
   ]
  },
  {
   "cell_type": "code",
   "execution_count": 24,
   "id": "e023108e",
   "metadata": {},
   "outputs": [],
   "source": [
    "async def getFromGoogle():\n",
    "    url = \"https://www.google.com\"\n",
    "    session =  aiohttp.ClientSession()\n",
    "    response = await session.get(url)\n",
    "#     print(response.content)\n",
    "    await session.close()"
   ]
  },
  {
   "cell_type": "code",
   "execution_count": 25,
   "id": "df292591",
   "metadata": {},
   "outputs": [],
   "source": [
    "async def main():\n",
    "    print(time.strftime('%X'))\n",
    "    await asyncio.gather(\n",
    "        *[getFromGoogle() for _ in range(20)]\n",
    "    )\n",
    "    print(time.strftime('%X'))"
   ]
  },
  {
   "cell_type": "code",
   "execution_count": 26,
   "id": "bdb1636a",
   "metadata": {},
   "outputs": [
    {
     "name": "stdout",
     "output_type": "stream",
     "text": [
      "13:26:37\n",
      "13:26:40\n"
     ]
    }
   ],
   "source": [
    "await main()"
   ]
  },
  {
   "cell_type": "code",
   "execution_count": null,
   "id": "59f7bf9a",
   "metadata": {},
   "outputs": [],
   "source": []
  }
 ],
 "metadata": {
  "kernelspec": {
   "display_name": "Python 3 (ipykernel)",
   "language": "python",
   "name": "python3"
  },
  "language_info": {
   "codemirror_mode": {
    "name": "ipython",
    "version": 3
   },
   "file_extension": ".py",
   "mimetype": "text/x-python",
   "name": "python",
   "nbconvert_exporter": "python",
   "pygments_lexer": "ipython3",
   "version": "3.8.10"
  }
 },
 "nbformat": 4,
 "nbformat_minor": 5
}
